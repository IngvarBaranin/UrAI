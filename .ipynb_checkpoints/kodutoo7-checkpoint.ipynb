{
 "cells": [
  {
   "cell_type": "code",
   "execution_count": 1,
   "metadata": {
    "id": "T4Xhm-pQy6z7"
   },
   "outputs": [],
   "source": [
    "from random import uniform\n",
    "import time\n",
    "from IPython.display import display, clear_output\n",
    "import numpy as np\n",
    "import math"
   ]
  },
  {
   "cell_type": "code",
   "execution_count": 2,
   "metadata": {
    "id": "oW9d-j0_zXXW"
   },
   "outputs": [],
   "source": [
    "# Funktsioon, mida saaks pärast ära kasutada selleks, et joonistada olemasoleva laua üle, mitte pidevalt uuele reale\n",
    "def black_box(): \n",
    "  i = 1\n",
    "  while True:\n",
    "    clear_output(wait=True)\n",
    "    display('Iteration '+str(i)+' Score: '+str(uniform(0, 1)))\n",
    "    time.sleep(0.2)\n",
    "    i += 1"
   ]
  },
  {
   "cell_type": "code",
   "execution_count": 3,
   "metadata": {
    "id": "f6NARBILl0JH"
   },
   "outputs": [],
   "source": [
    "# Mitu nuppu kummalgi mängijal laua läbinud on\n",
    "PLAYER1_COMPLETED = 0 \n",
    "PLAYER2_COMPLETED = 0\n",
    "\n",
    "# Mis positsioonidel nupud mängus on\n",
    "PLAYER1_POS_IN_PLAY = set() \n",
    "PLAYER2_POS_IN_PLAY = set()\n",
    "\n",
    "# Defineerib võimalikud asukohad mõlema mängija jaoks\n",
    "PLAYER1_TILES = {1 : [0,3], 2 : [0,2], 3 : [0,1], 4 : [0,0], 5 : [1,0], 6 : [1,1], 7 : [1,2], 8 : [1,3], 9 : [1,4], 10 : [1,5], 11 : [1,6], 12 : [1,7], 13 : [0,7], 14 : [0,6]} \n",
    "PLAYER2_TILES = {1 : [2,3], 2 : [2,2], 3 : [2,1], 4 : [2,0], 5 : [1,0], 6 : [1,1], 7 : [1,2], 8 : [1,3], 9 : [1,4], 10 : [1,5], 11 : [1,6], 12 : [1,7], 13 : [2,7], 14 : [2,6]} \n",
    "\n",
    "# Mis positsioonidel kumbki mängija sama käigu jooksul uuesti veeretada saab\n",
    "ROLL_AGAIN_TILES = [4, 8, 14]\n",
    "\n",
    "# Iga täringuveeretuse arvu tõenäosused\n",
    "PROBABILITIES = {0 : 1 / 16, 1 : 4 / 16, 2 : 6 / 16, 3 : 4 / 16, 4 : 1 / 16}\n",
    "\n",
    "# Mitme sammu võrra vaatab AI vastane edasi\n",
    "MINMAX_DEPTH = 5"
   ]
  },
  {
   "cell_type": "code",
   "execution_count": 4,
   "metadata": {
    "id": "Fxwlov6v48Ig"
   },
   "outputs": [],
   "source": [
    "def increaseScore(player):\n",
    "    global PLAYER1_COMPLETED, PLAYER2_COMPLETED\n",
    "    if (player == 1):\n",
    "        PLAYER1_COMPLETED += 1\n",
    "    else:\n",
    "        PLAYER2_COMPLETED += 1\n",
    "    return\n",
    "\n",
    "def decreaseScore(player):\n",
    "    global PLAYER1_COMPLETED, PLAYER2_COMPLETED\n",
    "    if (player == 1):\n",
    "        PLAYER1_COMPLETED -= 1\n",
    "    else:\n",
    "        PLAYER2_COMPLETED -= 1\n",
    "    return"
   ]
  },
  {
   "cell_type": "code",
   "execution_count": 5,
   "metadata": {
    "id": "AUXD9cGi-ydB"
   },
   "outputs": [],
   "source": [
    "def getScore(player):\n",
    "    if (player == 1):\n",
    "        return PLAYER1_COMPLETED\n",
    "    else:\n",
    "        return PLAYER2_COMPLETED"
   ]
  },
  {
   "cell_type": "code",
   "execution_count": 6,
   "metadata": {
    "id": "zvqwJDImIdDW"
   },
   "outputs": [],
   "source": [
    "def resetGameState():\n",
    "    global PLAYER1_COMPLETED, PLAYER2_COMPLETED, PLAYER1_POS_IN_PLAY, PLAYER2_POS_IN_PLAY\n",
    "\n",
    "    PLAYER1_COMPLETED = 0 \n",
    "    PLAYER2_COMPLETED = 0\n",
    "\n",
    "    PLAYER1_POS_IN_PLAY = set() \n",
    "    PLAYER2_POS_IN_PLAY = set()"
   ]
  },
  {
   "cell_type": "code",
   "execution_count": 7,
   "metadata": {
    "id": "qBTJbJmJzFXb"
   },
   "outputs": [],
   "source": [
    "# Tagastab:\n",
    "# 0 0 0 0     0 0\n",
    "# 0 0 0 0 0 0 0 0\n",
    "# 0 0 0 0     0 0\n",
    "def initBoard():\n",
    "    resetGameState()\n",
    "    board = np.zeros(shape=(3,8)).astype(int).astype(str)\n",
    "    board[0][4:6] = \" \"\n",
    "    board[2][4:6] = \" \"\n",
    "    return board"
   ]
  },
  {
   "cell_type": "code",
   "execution_count": 8,
   "metadata": {
    "colab": {
     "base_uri": "https://localhost:8080/"
    },
    "id": "jzaHBd2bELb-",
    "outputId": "f4c505ef-fc95-4006-caea-587191884f51"
   },
   "outputs": [
    {
     "name": "stdout",
     "output_type": "stream",
     "text": [
      "Skoor 0 : 0\n",
      "\n",
      "0 0 0 0     0 0\n",
      "0 0 0 0 0 0 0 0\n",
      "0 0 0 0     0 0\n",
      "\n"
     ]
    }
   ],
   "source": [
    "def prettyPrint(board):\n",
    "    print(\"Skoor \" + str(PLAYER1_COMPLETED) + \" : \" + str(PLAYER2_COMPLETED) + \"\\n\")\n",
    "    print('\\n'.join([' '.join([str(cell) for cell in row]) for row in board]) + \"\\n\")\n",
    "prettyPrint(initBoard())"
   ]
  },
  {
   "cell_type": "code",
   "execution_count": 9,
   "metadata": {
    "id": "ra14hjtcUXJv"
   },
   "outputs": [],
   "source": [
    "def rollDice():\n",
    "    result = 0\n",
    "    for i in range(4):\n",
    "        result += np.random.randint(2)\n",
    "    return result"
   ]
  },
  {
   "cell_type": "code",
   "execution_count": 10,
   "metadata": {
    "id": "y9gCecVw4mDM"
   },
   "outputs": [],
   "source": [
    "def movePiece(board, player, currentPosLocIdx, steps):\n",
    "    playerMovePath = PLAYER1_TILES     if player == 1 else PLAYER2_TILES\n",
    "    piecesInPlay = PLAYER1_POS_IN_PLAY if player == 1 else PLAYER2_POS_IN_PLAY\n",
    "    \n",
    "    enemyPiecesInPlay = PLAYER2_POS_IN_PLAY if player == 1 else PLAYER1_POS_IN_PLAY  \n",
    "\n",
    "    if steps < 1:\n",
    "        return board, False\n",
    "    \n",
    "    if steps > 4:\n",
    "        print(\"Not a valid dice roll result\")\n",
    "        return board, False\n",
    "\n",
    "    if currentPosLocIdx not in piecesInPlay and currentPosLocIdx != 0:\n",
    "        print(\"There is no gamepiece on the given tile. For player \" + str(player) + \", there are pieces in play on the following positions: \" + str(piecesInPlay))\n",
    "        prettyPrint(board)\n",
    "        return board, False\n",
    "\n",
    "    if (currentPosLocIdx + steps) in piecesInPlay:\n",
    "        print(\"There already is a gamepiece on the target tile. You can't step on your own piece.\")\n",
    "        prettyPrint(board)\n",
    "        return board, False\n",
    "    \n",
    "    if currentPosLocIdx != 0:\n",
    "        old_x, old_y = playerMovePath.get(currentPosLocIdx)\n",
    "\n",
    "    if (currentPosLocIdx + steps) > 14:\n",
    "        board[old_x][old_y] = str(0)\n",
    "        piecesInPlay.remove(currentPosLocIdx)\n",
    "        increaseScore(player)\n",
    "\n",
    "        if (getScore(player) >= 7):\n",
    "            print(\"Mängija \" + str(player) + \" võitis!\")\n",
    "\n",
    "        return board, True\n",
    "\n",
    "    new_x, new_y = playerMovePath.get(currentPosLocIdx + steps)\n",
    "\n",
    "    if currentPosLocIdx != 0:\n",
    "        board[old_x][old_y] = str(0)\n",
    "    board[new_x][new_y] = str(player)\n",
    "    if currentPosLocIdx != 0:\n",
    "        piecesInPlay.remove(currentPosLocIdx)\n",
    "    piecesInPlay.add(currentPosLocIdx + steps)\n",
    "\n",
    "    if (currentPosLocIdx + steps) in enemyPiecesInPlay and (currentPosLocIdx + steps) > 4 and (currentPosLocIdx + steps) < 13:\n",
    "        enemyPiecesInPlay.remove(currentPosLocIdx + steps)\n",
    "\n",
    "    return board, True"
   ]
  },
  {
   "cell_type": "code",
   "execution_count": 11,
   "metadata": {},
   "outputs": [
    {
     "ename": "SyntaxError",
     "evalue": "invalid syntax (<ipython-input-11-545686b777fd>, line 26)",
     "output_type": "error",
     "traceback": [
      "\u001b[1;36m  File \u001b[1;32m\"<ipython-input-11-545686b777fd>\"\u001b[1;36m, line \u001b[1;32m26\u001b[0m\n\u001b[1;33m    if depth = 0 or isGameOver()\u001b[0m\n\u001b[1;37m             ^\u001b[0m\n\u001b[1;31mSyntaxError\u001b[0m\u001b[1;31m:\u001b[0m invalid syntax\n"
     ]
    }
   ],
   "source": [
    "def humanTurn(board, player, diceResult):\n",
    "    turnSuccessful = False\n",
    "    while (turnSuccessful != True):\n",
    "        try:\n",
    "            currentPosLocIdx = -1\n",
    "            while not (currentPosLocIdx >= 0 and currentPosLocIdx < 15): \n",
    "                currentPosLocIdx = int(input(\"Enter position of piece you'd like to move (0 to add new piece to board)\"))\n",
    "                print(currentPosLocIdx)\n",
    "\n",
    "            turnSuccessful = movePiece(board, player, currentPosLocIdx, diceResult)[1]\n",
    "        except:\n",
    "            print(\"Invalid input\")\n",
    "            continue\n",
    "\n",
    "def evaluateBoard(board):\n",
    "    # Arv nuppe, mis on lõppu jõudnud\n",
    "    total = getPoints(1) - getPoints(2)\n",
    "    \n",
    "    # Arv nuppe, mis on ohutul ruudul\n",
    "    total += len(PLAYER1_POS_IN_PLAY & ROLL_AGAIN_TILES) * 0.5\n",
    "    total -= len(PLAYER2_POS_IN_PLAY & ROLL_AGAIN_TILES) * 0.5\n",
    "    \n",
    "    return total\n",
    "\n",
    "def isGameOver():\n",
    "    return getScore(1) >= 7 or getScore(2) >= 7\n",
    "    \n",
    "def getPossibleMoves():\n",
    "    # TODO\n",
    "\n",
    "def minMax(board, player, diceResult=None, depth=MINMAX_DEPTH):\n",
    "    if depth == 0 or isGameOver()\n",
    "         return None, evaluateBoard(board, player)\n",
    "    else:\n",
    "        if diceResult != None: # Täringuvise on teada, vali parim liigutus.\n",
    "            possibleMoves = getPossibleMoves(board, player, diceResult)\n",
    "            if player == 1:\n",
    "                bestMove = None\n",
    "                bestEval = -math.inf\n",
    "                for possibleMove in possibleMoves:\n",
    "                    possibleBoard = movePiece(board, player, possibleMove, diceResult)\n",
    "                    possibleEval = minMax(possibleBoard, 3 - player, None, depth-1)\n",
    "                    decreaseScore(player)\n",
    "                    if bestMove == None or possibleEval > bestEval:\n",
    "                        bestMove = possibleMove\n",
    "                        bestEval = possibleEval\n",
    "                return bestMove, bestEval\n",
    "            else:\n",
    "                bestMove = None\n",
    "                bestEval = math.inf\n",
    "                for possibleMove in possibleMoves:\n",
    "                    possibleBoard = movePiece(board, player, possibleMove, diceResult)\n",
    "                    possibleEval = minMax(possibleBoard, 3 - player, None, depth-1)\n",
    "                    decreaseScore(player)\n",
    "                    if bestMove == None or possibleEval < bestEval:\n",
    "                        bestMove = possibleMove\n",
    "                        bestEval = possibleEval\n",
    "                return bestMove, bestEval\n",
    "        else: # Täringuvise on teadmata, hinnasta mänguseis kaalutud keskmisena\n",
    "            averageEval = 0\n",
    "            for diceResult in range(len(5)): # Vaatame läbi kõik võimalikud silmade visked 0-4\n",
    "                probability = PROBABILITIES[i]\n",
    "                possibleMoves = getPossibleMoves(board, player, diceResult)\n",
    "                if player == 1:\n",
    "                    bestEval = -math.inf\n",
    "                    for possibleMove in possibleMoves:\n",
    "                        possibleBoard = movePiece(board, player, possibleMove, diceResult)\n",
    "                        possibleEval = minMax(possibleBoard, 3 - player, None, depth-1)\n",
    "                        decreaseScore(player)\n",
    "                        if bestMove == None or possibleEval > bestEval:\n",
    "                            bestEval = possibleEval\n",
    "                    averageEval += probability * bestEval\n",
    "                else:\n",
    "                    bestEval = math.inf\n",
    "                    for possibleMove in possibleMoves:\n",
    "                        possibleBoard = movePiece(board, player, possibleMove, diceResult)\n",
    "                        possibleEval = minMax(possibleBoard, 3 - player, None, depth-1)\n",
    "                        decreaseScore(player)\n",
    "                        if bestMove == None or possibleEval < bestEval:\n",
    "                            bestEval = possibleEval\n",
    "                    averageEval += probability * bestEval\n",
    "            return None, averageEval\n",
    "            \n",
    "            \n",
    "def AITurn(board, player, diceResult):\n",
    "    return minMax(board, player, diceResult)[0]"
   ]
  },
  {
   "cell_type": "code",
   "execution_count": null,
   "metadata": {
    "colab": {
     "base_uri": "https://localhost:8080/"
    },
    "id": "ltYZ1p_BVgQi",
    "outputId": "7d38f6b4-d992-4ef0-d23b-6ad7d84a6086"
   },
   "outputs": [],
   "source": [
    "board = initBoard()\n",
    "for i in range(7):\n",
    "    movePiece(board, 2, 0, 2)\n",
    "    movePiece(board, 2, 2, 4)\n",
    "    movePiece(board, 2, 6, 4)\n",
    "    movePiece(board, 2, 10, 4)\n",
    "    movePiece(board, 2, 14, 4)\n",
    "    prettyPrint(board)"
   ]
  },
  {
   "cell_type": "code",
   "execution_count": null,
   "metadata": {
    "id": "mD_SlbuNNLvH"
   },
   "outputs": [],
   "source": [
    "def play(player1, player2):\n",
    "    player = 1\n",
    "    board = initBoard()\n",
    "    while getScore(1) < 7 or getScore(2) < 7:\n",
    "        clear_output(wait=True)\n",
    "        print(PLAYER1_POS_IN_PLAY)\n",
    "        print(PLAYER2_POS_IN_PLAY)\n",
    "        diceResult = rollDice()\n",
    "        print(\"----- Turn start for player \" + str(player) + \" ----- \\n\")\n",
    "        print(\"Dice roll result: \" + str(diceResult))\n",
    "\n",
    "        prettyPrint(board)\n",
    "\n",
    "        if (diceResult == 0):\n",
    "            print(\"Skipped turn due to 0 dice roll\")\n",
    "            print(\"----- Turn over for player \" + str(player) + \" ----- \\n\")\n",
    "            player = 3 - player\n",
    "            continue\n",
    "        \n",
    "        if player == 1:\n",
    "            if player1 == \"human\":\n",
    "                humanTurn(board, player, diceResult)\n",
    "            else:\n",
    "                AITurn(board, player, diceResult)\n",
    "        else:\n",
    "            if player2 == \"human\":\n",
    "                humanTurn(board, player, diceResult)\n",
    "            else:\n",
    "                AITurn(board, player, diceResult)\n",
    "\n",
    "        print(\"----- Turn over for player \" + str(player) + \" ----- \\n\")\n",
    "\n",
    "        player = 3 - player\n",
    "        "
   ]
  },
  {
   "cell_type": "code",
   "execution_count": null,
   "metadata": {
    "colab": {
     "base_uri": "https://localhost:8080/"
    },
    "id": "pKnx9hfyZxYD",
    "outputId": "6c64edfd-d982-4cb7-b26e-9c4cc8704dea"
   },
   "outputs": [],
   "source": [
    "play(\"human\", \"AI\")"
   ]
  },
  {
   "cell_type": "code",
   "execution_count": null,
   "metadata": {
    "id": "cWdJQSIcaVk2"
   },
   "outputs": [],
   "source": []
  }
 ],
 "metadata": {
  "celltoolbar": "Slideshow",
  "colab": {
   "collapsed_sections": [],
   "name": "kodutoo7.ipynb",
   "provenance": []
  },
  "kernelspec": {
   "display_name": "Python 3",
   "language": "python",
   "name": "python3"
  },
  "language_info": {
   "codemirror_mode": {
    "name": "ipython",
    "version": 3
   },
   "file_extension": ".py",
   "mimetype": "text/x-python",
   "name": "python",
   "nbconvert_exporter": "python",
   "pygments_lexer": "ipython3",
   "version": "3.6.12"
  }
 },
 "nbformat": 4,
 "nbformat_minor": 1
}
