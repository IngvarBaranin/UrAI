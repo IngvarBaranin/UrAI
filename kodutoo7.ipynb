{
  "nbformat": 4,
  "nbformat_minor": 0,
  "metadata": {
    "celltoolbar": "Slideshow",
    "colab": {
      "name": "Copy of kodutoo7.ipynb",
      "provenance": [],
      "collapsed_sections": [],
      "include_colab_link": true
    },
    "kernelspec": {
      "display_name": "Python 3",
      "language": "python",
      "name": "python3"
    },
    "language_info": {
      "codemirror_mode": {
        "name": "ipython",
        "version": 3
      },
      "file_extension": ".py",
      "mimetype": "text/x-python",
      "name": "python",
      "nbconvert_exporter": "python",
      "pygments_lexer": "ipython3",
      "version": "3.6.12"
    }
  },
  "cells": [
    {
      "cell_type": "markdown",
      "metadata": {
        "id": "view-in-github",
        "colab_type": "text"
      },
      "source": [
        "<a href=\"https://colab.research.google.com/github/IngvarBaranin/UrAI/blob/main/kodutoo7.ipynb\" target=\"_parent\"><img src=\"https://colab.research.google.com/assets/colab-badge.svg\" alt=\"Open In Colab\"/></a>"
      ]
    },
    {
      "cell_type": "code",
      "metadata": {
        "id": "T4Xhm-pQy6z7"
      },
      "source": [
        "from random import uniform\n",
        "import time\n",
        "from IPython.display import display, clear_output\n",
        "import numpy as np\n",
        "import math\n",
        "from copy import deepcopy\n",
        "from collections import deque\n",
        "\n",
        "class bcolors:\n",
        "    HEADER = '\\033[95m'\n",
        "    OKBLUE = '\\033[94m'\n",
        "    OKCYAN = '\\033[96m'\n",
        "    OKGREEN = '\\033[92m'\n",
        "    WARNING = '\\033[93m'\n",
        "    NOTIFY = '\\033[91m'\n",
        "    ENDC = '\\033[0m'\n",
        "    BOLD = '\\033[1m'\n",
        "    UNDERLINE = '\\033[4m'"
      ],
      "execution_count": 1,
      "outputs": []
    },
    {
      "cell_type": "code",
      "metadata": {
        "id": "f6NARBILl0JH"
      },
      "source": [
        "# Mitu nuppu kummalgi mängijal laua läbinud on\n",
        "PLAYER1_COMPLETED = 0 \n",
        "PLAYER2_COMPLETED = 0\n",
        "\n",
        "# Mis positsioonidel nupud mängus on\n",
        "PLAYER1_POS_IN_PLAY = set() \n",
        "PLAYER2_POS_IN_PLAY = set()\n",
        "\n",
        "# Defineerib võimalikud asukohad mõlema mängija jaoks\n",
        "PLAYER1_TILES = {1 : [0,3], 2 : [0,2], 3 : [0,1], 4 : [0,0], 5 : [1,0], 6 : [1,1], 7 : [1,2], 8 : [1,3], 9 : [1,4], 10 : [1,5], 11 : [1,6], 12 : [1,7], 13 : [0,7], 14 : [0,6]} \n",
        "PLAYER2_TILES = {1 : [2,3], 2 : [2,2], 3 : [2,1], 4 : [2,0], 5 : [1,0], 6 : [1,1], 7 : [1,2], 8 : [1,3], 9 : [1,4], 10 : [1,5], 11 : [1,6], 12 : [1,7], 13 : [2,7], 14 : [2,6]} \n",
        "\n",
        "# Mis positsioonidel kumbki mängija sama käigu jooksul uuesti veeretada saab\n",
        "ROLL_AGAIN_TILES = [4, 8, 14]\n",
        "\n",
        "# Iga täringuveeretuse arvu tõenäosused\n",
        "PROBABILITIES = {0 : 1 / 16, 1 : 4 / 16, 2 : 6 / 16, 3 : 4 / 16, 4 : 1 / 16}\n",
        "\n",
        "# Mitme sammu võrra vaatab AI vastane edasi\n",
        "MINMAX_DEPTH = 2\n",
        "\n",
        "GAMESTATES = deque()"
      ],
      "execution_count": 2,
      "outputs": []
    },
    {
      "cell_type": "code",
      "metadata": {
        "id": "Fxwlov6v48Ig"
      },
      "source": [
        "def increaseScore(player):\n",
        "    global PLAYER1_COMPLETED, PLAYER2_COMPLETED\n",
        "    if (player == 1):\n",
        "        PLAYER1_COMPLETED += 1\n",
        "    else:\n",
        "        PLAYER2_COMPLETED += 1\n",
        "    return\n",
        "\n",
        "def decreaseScore(player):\n",
        "    global PLAYER1_COMPLETED, PLAYER2_COMPLETED\n",
        "    if (player == 1):\n",
        "        PLAYER1_COMPLETED -= 1\n",
        "    else:\n",
        "        PLAYER2_COMPLETED -= 1\n",
        "    return"
      ],
      "execution_count": 3,
      "outputs": []
    },
    {
      "cell_type": "code",
      "metadata": {
        "id": "AUXD9cGi-ydB"
      },
      "source": [
        "def getScore(player):\n",
        "    if (player == 1):\n",
        "        return PLAYER1_COMPLETED\n",
        "    else:\n",
        "        return PLAYER2_COMPLETED"
      ],
      "execution_count": 4,
      "outputs": []
    },
    {
      "cell_type": "code",
      "metadata": {
        "id": "zvqwJDImIdDW"
      },
      "source": [
        "def resetGameState():\n",
        "    global PLAYER1_COMPLETED, PLAYER2_COMPLETED, PLAYER1_POS_IN_PLAY, PLAYER2_POS_IN_PLAY\n",
        "\n",
        "    PLAYER1_COMPLETED = 0 \n",
        "    PLAYER2_COMPLETED = 0\n",
        "\n",
        "    PLAYER1_POS_IN_PLAY = set() \n",
        "    PLAYER2_POS_IN_PLAY = set()"
      ],
      "execution_count": 5,
      "outputs": []
    },
    {
      "cell_type": "code",
      "metadata": {
        "id": "qBTJbJmJzFXb"
      },
      "source": [
        "# Tagastab:\n",
        "# • 0 0 0     • 0\n",
        "# 0 0 0 • 0 0 0 0\n",
        "# • 0 0 0     • 0\n",
        "def initBoard():\n",
        "    resetGameState()\n",
        "    board = np.zeros(shape=(3,8)).astype(int).astype(str)\n",
        "    board[0][4:6] = \" \"\n",
        "    board[2][4:6] = \" \"\n",
        "\n",
        "    rollAgainTileCoordinates = [PLAYER1_TILES.get(tile) for tile in ROLL_AGAIN_TILES]\n",
        "    rollAgainTileCoordinates.extend([PLAYER2_TILES.get(tile) for tile in ROLL_AGAIN_TILES])\n",
        "    \n",
        "    for x, y in rollAgainTileCoordinates:\n",
        "        board[x][y] = \"•\"\n",
        "\n",
        "    return board"
      ],
      "execution_count": 6,
      "outputs": []
    },
    {
      "cell_type": "code",
      "metadata": {
        "colab": {
          "base_uri": "https://localhost:8080/"
        },
        "id": "jzaHBd2bELb-",
        "outputId": "01699909-fd49-4f43-8ab2-dd700bbe7b19"
      },
      "source": [
        "def prettyPrint(board):\n",
        "    print(\"Score \" + str(PLAYER1_COMPLETED) + \" : \" + str(PLAYER2_COMPLETED) + \"\\n\")\n",
        "    print('\\n'.join([' '.join([str(cell) for cell in row]) for row in board]) + \"\\n\")\n",
        "prettyPrint(initBoard())"
      ],
      "execution_count": 7,
      "outputs": [
        {
          "output_type": "stream",
          "text": [
            "Score 0 : 0\n",
            "\n",
            "• 0 0 0     • 0\n",
            "0 0 0 • 0 0 0 0\n",
            "• 0 0 0     • 0\n",
            "\n"
          ],
          "name": "stdout"
        }
      ]
    },
    {
      "cell_type": "code",
      "metadata": {
        "id": "ra14hjtcUXJv"
      },
      "source": [
        "def rollDice():\n",
        "    result = 0\n",
        "    for i in range(4):\n",
        "        result += np.random.randint(2)\n",
        "    return result"
      ],
      "execution_count": 8,
      "outputs": []
    },
    {
      "cell_type": "code",
      "metadata": {
        "id": "y9gCecVw4mDM"
      },
      "source": [
        "def movePiece(board, player, currentPosLocIdx, steps, debug=False):\n",
        "    playerMovePath = PLAYER1_TILES     if player == 1 else PLAYER2_TILES\n",
        "    piecesInPlay = PLAYER1_POS_IN_PLAY if player == 1 else PLAYER2_POS_IN_PLAY\n",
        "    \n",
        "    enemyPiecesInPlay = PLAYER2_POS_IN_PLAY if player == 1 else PLAYER1_POS_IN_PLAY  \n",
        "\n",
        "    if (len(piecesInPlay) + getScore(player) == 7) and currentPosLocIdx == 0:\n",
        "        if (debug):\n",
        "            print(\"No more pieces to add to the board\")\n",
        "        return board, False, False\n",
        "\n",
        "    if steps < 1:\n",
        "        return board, False, False\n",
        "    \n",
        "    if steps > 4:\n",
        "        if (debug):\n",
        "            print(\"Not a valid dice roll result\")\n",
        "        return board, False, False\n",
        "\n",
        "    if currentPosLocIdx not in piecesInPlay and currentPosLocIdx != 0:\n",
        "        if (debug):\n",
        "            print(\"There is no gamepiece on the given tile. For player \" + str(player) + \", there are pieces in play on the following positions: \" + str(piecesInPlay))\n",
        "            prettyPrint(board)\n",
        "        return board, False, False\n",
        "\n",
        "    if (currentPosLocIdx + steps) in piecesInPlay:\n",
        "        if (debug):\n",
        "            print(\"There already is a gamepiece on the target tile. You can't step on your own piece.\")\n",
        "            prettyPrint(board)\n",
        "        return board, False, False\n",
        "\n",
        "    if (currentPosLocIdx + steps) == 8 and (currentPosLocIdx + steps) in enemyPiecesInPlay:\n",
        "        if (debug):\n",
        "            print(\"The enemy is on a safe tile.\")\n",
        "            prettyPrint(board)\n",
        "        return board, False, False\n",
        "    \n",
        "    if currentPosLocIdx != 0:\n",
        "        old_x, old_y = playerMovePath.get(currentPosLocIdx)\n",
        "\n",
        "    if (currentPosLocIdx + steps) > 14:\n",
        "        board[old_x][old_y] = str(0)\n",
        "        piecesInPlay.remove(currentPosLocIdx)\n",
        "        increaseScore(player)\n",
        "\n",
        "        if (getScore(player) >= 7):\n",
        "            if (debug):\n",
        "                print(\"Player \" + str(player) + \" won!\")\n",
        "\n",
        "        return board, True, False\n",
        "\n",
        "    new_x, new_y = playerMovePath.get(currentPosLocIdx + steps)\n",
        "\n",
        "    if currentPosLocIdx != 0:\n",
        "        board[old_x][old_y] = str(0)\n",
        "    board[new_x][new_y] = str(player)\n",
        "    if currentPosLocIdx != 0:\n",
        "        piecesInPlay.remove(currentPosLocIdx)\n",
        "    piecesInPlay.add(currentPosLocIdx + steps)\n",
        "\n",
        "    if (currentPosLocIdx + steps) in enemyPiecesInPlay and (currentPosLocIdx + steps) > 4 and (currentPosLocIdx + steps) < 13:\n",
        "        enemyPiecesInPlay.remove(currentPosLocIdx + steps)\n",
        "\n",
        "    if (currentPosLocIdx + steps) in ROLL_AGAIN_TILES:\n",
        "        if (debug):\n",
        "            print(bcolors.NOTIFY + \"Player \" + str(player) + \" gets an extra move.\" + bcolors.ENDC)\n",
        "\n",
        "        return board, False, True\n",
        "\n",
        "    markRosettesIfVacant(board, piecesInPlay, enemyPiecesInPlay)\n",
        "    return board, True, False\n",
        "\n",
        "def markRosettesIfVacant(board, playerPieces, enemyPieces):\n",
        "    rollAgainTileCoordinates = [PLAYER1_TILES.get(tile) for tile in ROLL_AGAIN_TILES]\n",
        "    rollAgainTileCoordinates.extend([PLAYER2_TILES.get(tile) for tile in ROLL_AGAIN_TILES])\n",
        "\n",
        "    for x, y in rollAgainTileCoordinates:\n",
        "        if board[x][y] == str(0):\n",
        "            board[x][y] = \"•\""
      ],
      "execution_count": 9,
      "outputs": []
    },
    {
      "cell_type": "code",
      "metadata": {
        "id": "k-Vd9PDpU758"
      },
      "source": [
        "def humanTurn(board, player, diceResult):\n",
        "    turnSuccessful = False\n",
        "    extraTurn = False\n",
        "    while (turnSuccessful != True):\n",
        "        if (extraTurn):\n",
        "            diceResult = rollDice()\n",
        "            print(\"Dice roll result: \" + bcolors.NOTIFY + str(diceResult) + bcolors.ENDC)\n",
        "            prettyPrint(board)\n",
        "            if (diceResult == 0):\n",
        "                break\n",
        "\n",
        "        try:\n",
        "            currentPosLocIdx = -1\n",
        "            while not (currentPosLocIdx >= 0 and currentPosLocIdx < 15): \n",
        "                currentPosLocIdx = int(input(\"Enter position of piece you'd like to move (0 to add new piece to board)\"))\n",
        "\n",
        "            move = movePiece(board, player, currentPosLocIdx, diceResult, True)\n",
        "            turnSuccessful = move[1]\n",
        "            extraTurn = move[2]\n",
        "        except:\n",
        "            print(\"Invalid input\")\n",
        "            continue\n",
        "\n",
        "def evaluateBoard(board):\n",
        "    # Arv nuppe, mis on lõppu jõudnud\n",
        "    total = getScore(1) - getScore(2)\n",
        "    \n",
        "    # Arv nuppe, mis on ohutul ruudul\n",
        "    total += len(PLAYER1_POS_IN_PLAY & set(ROLL_AGAIN_TILES)) * 0.5\n",
        "    total -= len(PLAYER2_POS_IN_PLAY & set(ROLL_AGAIN_TILES)) * 0.5\n",
        "    \n",
        "    return total\n",
        "\n",
        "def isGameOver():\n",
        "    return getScore(1) >= 7 or getScore(2) >= 7\n",
        "    \n",
        "def getPossibleMoves(board, player, steps):\n",
        "    playerMovePath = PLAYER1_TILES     if player == 1 else PLAYER2_TILES\n",
        "    piecesInPlay = (PLAYER1_POS_IN_PLAY if player == 1 else PLAYER2_POS_IN_PLAY) | {0}\n",
        "    enemyPiecesInPlay = (PLAYER2_POS_IN_PLAY if player == 1 else PLAYER1_POS_IN_PLAY)\n",
        "\n",
        "    if ((len(piecesInPlay) - 1) + getScore(player) == 7): # -1 to account for the 0 that isn't an actual piece on the board\n",
        "        piecesInPlay.remove(0)\n",
        "    \n",
        "    if steps < 1 or steps > 4:\n",
        "        return set()\n",
        "    \n",
        "    validMoves = set()\n",
        "    \n",
        "    for piece in piecesInPlay:\n",
        "        if (piece + steps) in piecesInPlay:\n",
        "            continue\n",
        "        if (piece + steps) == 8 and 8 in enemyPiecesInPlay:\n",
        "            continue\n",
        "            \n",
        "        validMoves.add(piece)\n",
        "        \n",
        "    return validMoves\n",
        "\n",
        "def saveGameState(board):\n",
        "    global PLAYER1_COMPLETED, PLAYER2_COMPLETED, PLAYER1_POS_IN_PLAY, PLAYER2_POS_IN_PLAY, GAMESTATES\n",
        "    GAMESTATES.append((deepcopy(board), PLAYER1_COMPLETED, PLAYER2_COMPLETED, deepcopy(PLAYER1_POS_IN_PLAY), deepcopy(PLAYER2_POS_IN_PLAY)))\n",
        "    \n",
        "def loadGameState():\n",
        "    global PLAYER1_COMPLETED, PLAYER2_COMPLETED, GAMESTATES, PLAYER1_POS_IN_PLAY, PLAYER2_POS_IN_PLAY\n",
        "    state = GAMESTATES.pop()\n",
        "    PLAYER1_COMPLETED = state[1]\n",
        "    PLAYER2_COMPLETED = state[2]\n",
        "    PLAYER1_POS_IN_PLAY = state[3]\n",
        "    PLAYER2_POS_IN_PLAY = state[4]\n",
        "    return state[0]\n",
        "\n",
        "    \n",
        "def getBestMove(board, player, diceResult, depth):\n",
        "    global GAMESTATES\n",
        "    possibleMoves = getPossibleMoves(board, player, diceResult)\n",
        "    bestMove = None\n",
        "    bestEval = -math.inf if player == 1 else math.inf\n",
        "    for possibleMove in possibleMoves:\n",
        "        saveGameState(board)\n",
        "        possibleBoard = movePiece(deepcopy(board), player, possibleMove, diceResult)[0]\n",
        "        possibleEval = minMax(possibleBoard, 3 - player, None, depth-1)[1]\n",
        "        board = loadGameState()\n",
        "        if bestMove == None or (possibleEval > bestEval and player == 1 or possibleEval < bestEval and player == 2):\n",
        "            bestMove = possibleMove\n",
        "            bestEval = possibleEval\n",
        "    return bestMove, bestEval\n",
        "\n",
        "def minMax(board, player, diceResult=None, depth=MINMAX_DEPTH):\n",
        "    global PROBABILITIES\n",
        "    if depth == 0 or isGameOver():\n",
        "         return None, evaluateBoard(board)\n",
        "    else:\n",
        "        if diceResult != None: # Täringuvise on teada, vali parim liigutus.\n",
        "            return getBestMove(board, player, diceResult, depth)\n",
        "        else: # Täringuvise on teadmata, hinnasta mänguseis kaalutud keskmisena\n",
        "            averageEval = 0\n",
        "            for diceResult in range(5): # Vaatame läbi kõik võimalikud silmade visked 0-4\n",
        "                probability = PROBABILITIES[diceResult]\n",
        "                bestEval = getBestMove(board, player, diceResult, depth)[1]\n",
        "                averageEval += probability * bestEval\n",
        "            return None, averageEval\n",
        "            \n",
        "            \n",
        "def AITurn(board, player, diceResult):\n",
        "    turnSuccessful = False\n",
        "    extraTurn = False\n",
        "    while (turnSuccessful != True):\n",
        "        if (extraTurn):\n",
        "            diceResult = rollDice()\n",
        "            print(\"Dice roll result: \" + bcolors.NOTIFY + str(diceResult) + bcolors.ENDC)\n",
        "\n",
        "            if (diceResult == 0):\n",
        "                break\n",
        "\n",
        "        move = movePiece(board, player, minMax(board, player, diceResult)[0], diceResult, True)\n",
        "        turnSuccessful = move[1]\n",
        "        extraTurn = move[2]"
      ],
      "execution_count": 10,
      "outputs": []
    },
    {
      "cell_type": "code",
      "metadata": {
        "id": "mD_SlbuNNLvH"
      },
      "source": [
        "def play(player1, player2):\n",
        "    player = 1\n",
        "    board = initBoard()\n",
        "    while getScore(1) < 7 and getScore(2) < 7:\n",
        "        clear_output(wait=True)\n",
        "        diceResult = rollDice()\n",
        "\n",
        "        playerColor = bcolors.OKGREEN if player == 1 else bcolors.OKBLUE  \n",
        "        print(playerColor + \"----- Turn start for player \" + str(player) + \" ----- \\n\" + bcolors.ENDC)\n",
        "        print(\"Player 1 positions:\", PLAYER1_POS_IN_PLAY)\n",
        "        print(\"Player 2 positions:\", PLAYER2_POS_IN_PLAY)\n",
        "        print(\"Dice roll result: \" + bcolors.NOTIFY + str(diceResult) + bcolors.ENDC)\n",
        "\n",
        "        prettyPrint(board)\n",
        "\n",
        "        if (diceResult == 0):\n",
        "            print(bcolors.NOTIFY + \"Skipped turn due to 0 dice roll\" + bcolors.ENDC)\n",
        "            player = 3 - player\n",
        "            continue\n",
        "        \n",
        "        if player == 1:\n",
        "            if player1 == \"human\":\n",
        "                humanTurn(board, player, diceResult)\n",
        "            else:\n",
        "                AITurn(board, player, diceResult)\n",
        "        else:\n",
        "            if player2 == \"human\":\n",
        "                humanTurn(board, player, diceResult)\n",
        "            else:\n",
        "                AITurn(board, player, diceResult)\n",
        "\n",
        "        print(playerColor + \"----- Turn end for player \" + str(player) + \" ----- \\n\" + bcolors.ENDC)\n",
        "        player = 3 - player\n",
        "\n",
        "    print(bcolors.OKCYAN + \"Final board\" + bcolors.ENDC)\n",
        "    prettyPrint(board)"
      ],
      "execution_count": 11,
      "outputs": []
    },
    {
      "cell_type": "code",
      "metadata": {
        "colab": {
          "base_uri": "https://localhost:8080/"
        },
        "id": "pKnx9hfyZxYD",
        "outputId": "4a444b5e-e5d6-4a07-95ea-4f47f01d6e31"
      },
      "source": [
        "play(\"AI\", \"AI\")"
      ],
      "execution_count": 18,
      "outputs": [
        {
          "output_type": "stream",
          "text": [
            "\u001b[92m----- Turn start for player 1 ----- \n",
            "\u001b[0m\n",
            "Player 1 positions: {10}\n",
            "Player 2 positions: {3, 4, 5, 7, 14}\n",
            "Dice roll result: \u001b[91m4\u001b[0m\n",
            "Score 6 : 2\n",
            "\n",
            "• 0 0 0     • 0\n",
            "2 0 2 • 0 1 0 0\n",
            "2 2 0 0     2 0\n",
            "\n",
            "\u001b[91mPlayer 1 gets an extra move.\u001b[0m\n",
            "Dice roll result: \u001b[91m2\u001b[0m\n",
            "Player 1 won!\n",
            "\u001b[92m----- Turn end for player 1 ----- \n",
            "\u001b[0m\n",
            "\u001b[96mFinal board\u001b[0m\n",
            "Score 7 : 2\n",
            "\n",
            "• 0 0 0     0 0\n",
            "2 0 2 • 0 0 0 0\n",
            "2 2 0 0     2 0\n",
            "\n"
          ],
          "name": "stdout"
        }
      ]
    }
  ]
}