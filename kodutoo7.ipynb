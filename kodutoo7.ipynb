{
  "nbformat": 4,
  "nbformat_minor": 0,
  "metadata": {
    "celltoolbar": "Slideshow",
    "colab": {
      "name": "kodutoo7.ipynb",
      "provenance": [],
      "collapsed_sections": []
    },
    "kernelspec": {
      "display_name": "Python 3",
      "language": "python",
      "name": "python3"
    },
    "language_info": {
      "codemirror_mode": {
        "name": "ipython",
        "version": 3
      },
      "file_extension": ".py",
      "mimetype": "text/x-python",
      "name": "python",
      "nbconvert_exporter": "python",
      "pygments_lexer": "ipython3",
      "version": "3.7.9"
    }
  },
  "cells": [
    {
      "cell_type": "code",
      "metadata": {
        "id": "T4Xhm-pQy6z7"
      },
      "source": [
        "from random import uniform\r\n",
        "import time\r\n",
        "from IPython.display import display, clear_output\r\n",
        "import numpy as np"
      ],
      "execution_count": 1,
      "outputs": []
    },
    {
      "cell_type": "code",
      "metadata": {
        "id": "oW9d-j0_zXXW"
      },
      "source": [
        "# Funktsioon, mida saaks pärast ära kasutada selleks, et joonistada olemasoleva laua üle, mitte pidevalt uuele reale\r\n",
        "def black_box(): \r\n",
        "  i = 1\r\n",
        "  while True:\r\n",
        "    clear_output(wait=True)\r\n",
        "    display('Iteration '+str(i)+' Score: '+str(uniform(0, 1)))\r\n",
        "    time.sleep(0.2)\r\n",
        "    i += 1"
      ],
      "execution_count": 2,
      "outputs": []
    },
    {
      "cell_type": "code",
      "metadata": {
        "id": "f6NARBILl0JH"
      },
      "source": [
        "# Mitu nuppu kummalgi mängijal laua läbinud on\r\n",
        "PLAYER1_COMPLETED = 0 \r\n",
        "PLAYER2_COMPLETED = 0\r\n",
        "\r\n",
        "# Mis positsioonidel nupud mängus on\r\n",
        "PLAYER1_POS_IN_PLAY = set() \r\n",
        "PLAYER2_POS_IN_PLAY = set()\r\n",
        "\r\n",
        "# Defineerib võimalikud asukohad mõlema mängija jaoks\r\n",
        "PLAYER1_TILES = {1 : [0,3], 2 : [0,2], 3 : [0,1], 4 : [0,0], 5 : [1,0], 6 : [1,1], 7 : [1,2], 8 : [1,3], 9 : [1,4], 10 : [1,5], 11 : [1,6], 12 : [1,7], 13 : [0,7], 14 : [0,6]} \r\n",
        "PLAYER2_TILES = {1 : [2,3], 2 : [2,2], 3 : [2,1], 4 : [2,0], 5 : [1,0], 6 : [1,1], 7 : [1,2], 8 : [1,3], 9 : [1,4], 10 : [1,5], 11 : [1,6], 12 : [1,7], 13 : [2,7], 14 : [2,6]} \r\n",
        "\r\n",
        "# Mis positsioonidel kumbki mängija sama käigu jooksul uuesti veeretada saab\r\n",
        "ROLL_AGAIN_TILES = [4, 8, 14]"
      ],
      "execution_count": 3,
      "outputs": []
    },
    {
      "cell_type": "code",
      "metadata": {
        "id": "Fxwlov6v48Ig"
      },
      "source": [
        "def increaseScore(player):\r\n",
        "    global PLAYER1_COMPLETED, PLAYER2_COMPLETED\r\n",
        "    if (player == 1):\r\n",
        "        PLAYER1_COMPLETED += 1\r\n",
        "    else:\r\n",
        "        PLAYER2_COMPLETED += 1\r\n",
        "    return"
      ],
      "execution_count": 4,
      "outputs": []
    },
    {
      "cell_type": "code",
      "metadata": {
        "id": "AUXD9cGi-ydB"
      },
      "source": [
        "def getScore(player):\r\n",
        "    if (player == 1):\r\n",
        "        return PLAYER1_COMPLETED\r\n",
        "    else:\r\n",
        "        return PLAYER2_COMPLETED"
      ],
      "execution_count": 5,
      "outputs": []
    },
    {
      "cell_type": "code",
      "metadata": {
        "id": "zvqwJDImIdDW"
      },
      "source": [
        "def resetGameState():\r\n",
        "    global PLAYER1_COMPLETED, PLAYER2_COMPLETED, PLAYER1_POS_IN_PLAY, PLAYER2_POS_IN_PLAY\r\n",
        "\r\n",
        "    PLAYER1_COMPLETED = 0 \r\n",
        "    PLAYER2_COMPLETED = 0\r\n",
        "\r\n",
        "    PLAYER1_POS_IN_PLAY = set() \r\n",
        "    PLAYER2_POS_IN_PLAY = set()"
      ],
      "execution_count": 6,
      "outputs": []
    },
    {
      "cell_type": "code",
      "metadata": {
        "id": "qBTJbJmJzFXb"
      },
      "source": [
        "# Tagastab:\r\n",
        "# 0 0 0 0     0 0\r\n",
        "# 0 0 0 0 0 0 0 0\r\n",
        "# 0 0 0 0     0 0\r\n",
        "def initBoard():\r\n",
        "    resetGameState()\r\n",
        "    board = np.zeros(shape=(3,8)).astype(int).astype(str)\r\n",
        "    board[0][4:6] = \" \"\r\n",
        "    board[2][4:6] = \" \"\r\n",
        "    return board"
      ],
      "execution_count": 7,
      "outputs": []
    },
    {
      "cell_type": "code",
      "metadata": {
        "colab": {
          "base_uri": "https://localhost:8080/"
        },
        "id": "jzaHBd2bELb-",
        "outputId": "f4c505ef-fc95-4006-caea-587191884f51"
      },
      "source": [
        "def prettyPrint(board):\r\n",
        "    print(\"Skoor \" + str(PLAYER1_COMPLETED) + \" : \" + str(PLAYER2_COMPLETED) + \"\\n\")\r\n",
        "    print('\\n'.join([' '.join([str(cell) for cell in row]) for row in board]) + \"\\n\")\r\n",
        "prettyPrint(initBoard())"
      ],
      "execution_count": 8,
      "outputs": [
        {
          "output_type": "stream",
          "text": [
            "Skoor 0 : 0\n",
            "\n",
            "0 0 0 0     0 0\n",
            "0 0 0 0 0 0 0 0\n",
            "0 0 0 0     0 0\n",
            "\n"
          ],
          "name": "stdout"
        }
      ]
    },
    {
      "cell_type": "code",
      "metadata": {
        "id": "ra14hjtcUXJv"
      },
      "source": [
        "def rollDice():\r\n",
        "    result = 0\r\n",
        "    for i in range(4):\r\n",
        "        result += np.random.randint(2)\r\n",
        "    return result"
      ],
      "execution_count": 9,
      "outputs": []
    },
    {
      "cell_type": "code",
      "metadata": {
        "colab": {
          "base_uri": "https://localhost:8080/"
        },
        "id": "xEO8TaVnmp7H",
        "outputId": "0f71ca26-f378-498f-b8cb-03d107fc63ab"
      },
      "source": [
        "# Lisab antud mängija nupu antud positsioonile laual ja tagastab laua\r\n",
        "def addPiece(board, player, addPieceLocIdx):\r\n",
        "    if addPieceLocIdx < 1 or addPieceLocIdx > 4:\r\n",
        "        print(\"Can't add piece on this index, as the range of options is 1-4.\")\r\n",
        "        return board, False\r\n",
        "\r\n",
        "    playerMovePath = PLAYER1_TILES     if player == 1 else PLAYER2_TILES\r\n",
        "    piecesInPlay = PLAYER1_POS_IN_PLAY if player == 1 else PLAYER2_POS_IN_PLAY  \r\n",
        "\r\n",
        "    if addPieceLocIdx in piecesInPlay:\r\n",
        "        print(\"Given position already contains a piece.\")\r\n",
        "        return board, False\r\n",
        "\r\n",
        "    x, y = playerMovePath.get(addPieceLocIdx)\r\n",
        "    piecesInPlay.add(addPieceLocIdx)\r\n",
        "    board[x][y] = str(player)\r\n",
        "    return board, True\r\n",
        "\r\n",
        "board = initBoard()\r\n",
        "addPiece(board, 2, 2)\r\n",
        "addPiece(board, 1, 2)\r\n",
        "prettyPrint(board)"
      ],
      "execution_count": 10,
      "outputs": [
        {
          "output_type": "stream",
          "text": [
            "Skoor 0 : 0\n",
            "\n",
            "0 0 1 0     0 0\n",
            "0 0 0 0 0 0 0 0\n",
            "0 0 2 0     0 0\n",
            "\n"
          ],
          "name": "stdout"
        }
      ]
    },
    {
      "cell_type": "code",
      "metadata": {
        "id": "y9gCecVw4mDM"
      },
      "source": [
        "def movePiece(board, player, currentPosLocIdx, steps):\r\n",
        "    playerMovePath = PLAYER1_TILES     if player == 1 else PLAYER2_TILES\r\n",
        "    piecesInPlay = PLAYER1_POS_IN_PLAY if player == 1 else PLAYER2_POS_IN_PLAY\r\n",
        "    \r\n",
        "    enemyPiecesInPlay = PLAYER2_POS_IN_PLAY if player == 1 else PLAYER1_POS_IN_PLAY  \r\n",
        "\r\n",
        "    if steps < 1:\r\n",
        "        return board, False\r\n",
        "    \r\n",
        "    if steps > 4:\r\n",
        "        print(\"Not a valid dice roll result\")\r\n",
        "        return board, False\r\n",
        "\r\n",
        "    if currentPosLocIdx not in piecesInPlay:\r\n",
        "        print(\"There is no gamepiece on the given tile. For player \" + str(player) + \", there are pieces in play on the following positions: \" + str(piecesInPlay))\r\n",
        "        prettyPrint(board)\r\n",
        "        return board, False\r\n",
        "\r\n",
        "    if (currentPosLocIdx + steps) in piecesInPlay:\r\n",
        "        print(\"There already is a gamepiece on the target tile. You can't step on your own piece.\")\r\n",
        "        prettyPrint(board)\r\n",
        "        return board, False\r\n",
        "    \r\n",
        "    old_x, old_y = playerMovePath.get(currentPosLocIdx)\r\n",
        "\r\n",
        "    if (currentPosLocIdx + steps) > 14:\r\n",
        "        board[old_x][old_y] = str(0)\r\n",
        "        piecesInPlay.remove(currentPosLocIdx)\r\n",
        "        increaseScore(player)\r\n",
        "\r\n",
        "        if (getScore(player) >= 7):\r\n",
        "            print(\"Mängija \" + str(player) + \" võitis!\")\r\n",
        "\r\n",
        "        return board, True\r\n",
        "\r\n",
        "    new_x, new_y = playerMovePath.get(currentPosLocIdx + steps)\r\n",
        "\r\n",
        "    board[old_x][old_y] = str(0)\r\n",
        "    board[new_x][new_y] = str(player)\r\n",
        "    piecesInPlay.remove(currentPosLocIdx)\r\n",
        "    piecesInPlay.add(currentPosLocIdx + steps)\r\n",
        "\r\n",
        "    if (currentPosLocIdx + steps) in enemyPiecesInPlay and (currentPosLocIdx + steps) > 4 and (currentPosLocIdx + steps) < 13:\r\n",
        "        enemyPiecesInPlay.remove(currentPosLocIdx + steps)\r\n",
        "\r\n",
        "    return board, True"
      ],
      "execution_count": 11,
      "outputs": []
    },
    {
      "cell_type": "code",
      "metadata": {
        "colab": {
          "base_uri": "https://localhost:8080/"
        },
        "id": "ltYZ1p_BVgQi",
        "outputId": "7d38f6b4-d992-4ef0-d23b-6ad7d84a6086"
      },
      "source": [
        "board = initBoard()\r\n",
        "for i in range(7):\r\n",
        "    addPiece(board, 2, 2)\r\n",
        "    movePiece(board, 2, 2, 4)\r\n",
        "    movePiece(board, 2, 6, 4)\r\n",
        "    movePiece(board, 2, 10, 4)\r\n",
        "    movePiece(board, 2, 14, 4)\r\n",
        "    prettyPrint(board)"
      ],
      "execution_count": 12,
      "outputs": [
        {
          "output_type": "stream",
          "text": [
            "Skoor 0 : 1\n",
            "\n",
            "0 0 0 0     0 0\n",
            "0 0 0 0 0 0 0 0\n",
            "0 0 0 0     0 0\n",
            "\n",
            "Skoor 0 : 2\n",
            "\n",
            "0 0 0 0     0 0\n",
            "0 0 0 0 0 0 0 0\n",
            "0 0 0 0     0 0\n",
            "\n",
            "Skoor 0 : 3\n",
            "\n",
            "0 0 0 0     0 0\n",
            "0 0 0 0 0 0 0 0\n",
            "0 0 0 0     0 0\n",
            "\n",
            "Skoor 0 : 4\n",
            "\n",
            "0 0 0 0     0 0\n",
            "0 0 0 0 0 0 0 0\n",
            "0 0 0 0     0 0\n",
            "\n",
            "Skoor 0 : 5\n",
            "\n",
            "0 0 0 0     0 0\n",
            "0 0 0 0 0 0 0 0\n",
            "0 0 0 0     0 0\n",
            "\n",
            "Skoor 0 : 6\n",
            "\n",
            "0 0 0 0     0 0\n",
            "0 0 0 0 0 0 0 0\n",
            "0 0 0 0     0 0\n",
            "\n",
            "Mängija 2 võitis!\n",
            "Skoor 0 : 7\n",
            "\n",
            "0 0 0 0     0 0\n",
            "0 0 0 0 0 0 0 0\n",
            "0 0 0 0     0 0\n",
            "\n"
          ],
          "name": "stdout"
        }
      ]
    },
    {
      "cell_type": "code",
      "metadata": {
        "id": "mD_SlbuNNLvH"
      },
      "source": [
        "def play():\r\n",
        "    player = 1\r\n",
        "    board = initBoard()\r\n",
        "    while getScore(1) < 7 or getScore(2) < 7:\r\n",
        "        clear_output(wait=True)\r\n",
        "        print(PLAYER1_POS_IN_PLAY)\r\n",
        "        print(PLAYER2_POS_IN_PLAY)\r\n",
        "        diceResult = rollDice()\r\n",
        "        print(\"----- Turn start for player \" + str(player) + \" ----- \\n\")\r\n",
        "        print(\"Dice roll result: \" + str(diceResult))\r\n",
        "\r\n",
        "        prettyPrint(board)\r\n",
        "\r\n",
        "        if (diceResult == 0):\r\n",
        "            print(\"Skipped turn due to 0 dice roll\")\r\n",
        "            print(\"----- Turn over for player \" + str(player) + \" ----- \\n\")\r\n",
        "            player = 3 - player\r\n",
        "            continue\r\n",
        "\r\n",
        "        turnSuccessful = False\r\n",
        "        while (turnSuccessful != True):\r\n",
        "            try:\r\n",
        "                action = -1\r\n",
        "                while (action != \"M\" and action != \"P\"): \r\n",
        "                    action = input(\"Do you want to place a new piece or move an existing piece (P to place, M to move)? \")[0]\r\n",
        "                \r\n",
        "                    if (action == \"P\"):\r\n",
        "                        turnSuccessful = addPiece(board, player, diceResult)[1]\r\n",
        "\r\n",
        "                    if (action == \"M\"):\r\n",
        "                        currentPosLocIdx = -1\r\n",
        "                        while not (currentPosLocIdx > 0 and currentPosLocIdx < 15): \r\n",
        "                            currentPosLocIdx = int(input(\"Enter position of piece you'd like to move \"))\r\n",
        "                            print(currentPosLocIdx)\r\n",
        "            \r\n",
        "                        turnSuccessful = movePiece(board, player, currentPosLocIdx, diceResult)[1]\r\n",
        "            except:\r\n",
        "                print(\"Invalid input\")\r\n",
        "                continue\r\n",
        "\r\n",
        "        print(\"----- Turn over for player \" + str(player) + \" ----- \\n\")\r\n",
        "\r\n",
        "        player = 3 - player\r\n",
        "        "
      ],
      "execution_count": 13,
      "outputs": []
    },
    {
      "cell_type": "code",
      "metadata": {
        "colab": {
          "base_uri": "https://localhost:8080/"
        },
        "id": "pKnx9hfyZxYD",
        "outputId": "6c64edfd-d982-4cb7-b26e-9c4cc8704dea"
      },
      "source": [
        "play()"
      ],
      "execution_count": null,
      "outputs": [
        {
          "output_type": "stream",
          "text": [
            "{8, 2}\n",
            "{1, 4}\n",
            "----- Turn start for player 2 ----- \n",
            "\n",
            "Dice roll result: 3\n",
            "Skoor 0 : 0\n",
            "\n",
            "0 0 1 0     0 0\n",
            "0 0 0 1 0 0 0 0\n",
            "2 0 0 2     0 0\n",
            "\n",
            "Invalid input\n"
          ],
          "name": "stdout"
        }
      ]
    },
    {
      "cell_type": "code",
      "metadata": {
        "id": "cWdJQSIcaVk2"
      },
      "source": [
        ""
      ],
      "execution_count": null,
      "outputs": []
    }
  ]
}